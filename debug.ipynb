{
 "cells": [
  {
   "cell_type": "code",
   "execution_count": 1,
   "metadata": {
    "collapsed": false
   },
   "outputs": [],
   "source": [
    "import numpy\n",
    "\n",
    "from gensim import utils, matutils\n",
    "from gensim.models import word2vec\n",
    "\n",
    "sentences = [\n",
    "    ['human', 'interface', 'computer'],\n",
    "    ['survey', 'user', 'computer', 'system', 'response', 'time'],\n",
    "    ['eps', 'user', 'interface', 'system'],\n",
    "    ['system', 'human', 'system', 'eps'],\n",
    "    ['user', 'response', 'time'],\n",
    "    ['trees'],\n",
    "    ['graph', 'trees'],\n",
    "    ['graph', 'minors', 'trees'],\n",
    "    ['graph', 'minors', 'survey']\n",
    "]\n",
    "\n",
    "model = word2vec.Word2Vec(sentences, min_count=1, workers=5)\n"
   ]
  },
  {
   "cell_type": "code",
   "execution_count": 2,
   "metadata": {
    "collapsed": false
   },
   "outputs": [
    {
     "name": "stderr",
     "output_type": "stream",
     "text": [
      "DEBUG:root:test\n"
     ]
    }
   ],
   "source": [
    "import logging\n",
    "logger = logging.getLogger()\n",
    "logger.setLevel(logging.DEBUG)\n",
    "logging.debug(\"test\")"
   ]
  },
  {
   "cell_type": "code",
   "execution_count": 3,
   "metadata": {
    "collapsed": false
   },
   "outputs": [
    {
     "name": "stderr",
     "output_type": "stream",
     "text": [
      "INFO:gensim.models.word2vec:scoring sentences with 2 workers on 12 vocabulary and 100 features, using sg=1 hs=1 sample=0 and negative=0\n",
      "DEBUG:gensim.models.word2vec:putting job #0 in the queue\n",
      "DEBUG:gensim.models.word2vec:putting job #1 in the queue\n",
      "DEBUG:gensim.models.word2vec:putting job #2 in the queue\n",
      "DEBUG:gensim.models.word2vec:putting job #3 in the queue\n",
      "DEBUG:gensim.models.word2vec:putting job #4 in the queue\n",
      "INFO:gensim.models.word2vec:reached end of input; waiting to finish 1 outstanding jobs\n",
      "INFO:gensim.models.word2vec:scoring 9 sentences took 0.0s, 1105 sentences/s\n"
     ]
    }
   ],
   "source": [
    "scores = model.score(sentences, 9, chunksize=2)"
   ]
  },
  {
   "cell_type": "code",
   "execution_count": 4,
   "metadata": {
    "collapsed": false
   },
   "outputs": [
    {
     "data": {
      "text/plain": [
       "array([-16.96789169, -77.79333496, -29.70446968, -29.69228935,\n",
       "       -15.54527378,   0.        ,  -4.23740578, -14.12265587, -15.54527378], dtype=float32)"
      ]
     },
     "execution_count": 4,
     "metadata": {},
     "output_type": "execute_result"
    }
   ],
   "source": [
    "scores"
   ]
  },
  {
   "cell_type": "code",
   "execution_count": 5,
   "metadata": {
    "collapsed": false
   },
   "outputs": [
    {
     "name": "stderr",
     "output_type": "stream",
     "text": [
      "INFO:gensim.models.word2vec:scoring sentences with 2 workers on 12 vocabulary and 100 features, using sg=1 hs=1 sample=0 and negative=0\n",
      "DEBUG:gensim.models.word2vec:putting job #0 in the queue\n",
      "DEBUG:gensim.models.word2vec:putting job #1 in the queue\n",
      "DEBUG:gensim.models.word2vec:putting job #2 in the queue\n",
      "WARNING:gensim.models.word2vec:terminating after 2 sentences (set higher total_sentences if you want more).\n",
      "INFO:gensim.models.word2vec:reached end of input; waiting to finish 1 outstanding jobs\n",
      "INFO:gensim.models.word2vec:scoring 2 sentences took 0.0s, 774 sentences/s\n"
     ]
    }
   ],
   "source": [
    "scores = model.score(sentences, 2, chunksize=2)"
   ]
  },
  {
   "cell_type": "code",
   "execution_count": 6,
   "metadata": {
    "collapsed": false
   },
   "outputs": [
    {
     "data": {
      "text/plain": [
       "array([-16.96789169, -77.79333496], dtype=float32)"
      ]
     },
     "execution_count": 6,
     "metadata": {},
     "output_type": "execute_result"
    }
   ],
   "source": [
    "scores"
   ]
  },
  {
   "cell_type": "code",
   "execution_count": 7,
   "metadata": {
    "collapsed": false
   },
   "outputs": [
    {
     "data": {
      "text/plain": [
       "2"
      ]
     },
     "execution_count": 7,
     "metadata": {},
     "output_type": "execute_result"
    }
   ],
   "source": [
    "len(scores)"
   ]
  },
  {
   "cell_type": "code",
   "execution_count": null,
   "metadata": {
    "collapsed": true
   },
   "outputs": [],
   "source": []
  },
  {
   "cell_type": "code",
   "execution_count": null,
   "metadata": {
    "collapsed": true
   },
   "outputs": [],
   "source": []
  }
 ],
 "metadata": {
  "kernelspec": {
   "display_name": "Python 2",
   "language": "python",
   "name": "python2"
  },
  "language_info": {
   "codemirror_mode": {
    "name": "ipython",
    "version": 2
   },
   "file_extension": ".py",
   "mimetype": "text/x-python",
   "name": "python",
   "nbconvert_exporter": "python",
   "pygments_lexer": "ipython2",
   "version": "2.7.10"
  }
 },
 "nbformat": 4,
 "nbformat_minor": 0
}
