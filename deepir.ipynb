{
 "cells": [
  {
   "cell_type": "code",
   "execution_count": 7,
   "metadata": {
    "collapsed": false
   },
   "outputs": [
    {
     "name": "stdout",
     "output_type": "stream",
     "text": [
      "The autoreload extension is already loaded. To reload it, use:\n",
      "  %reload_ext autoreload\n",
      "neg\n",
      "pos\n",
      "\n",
      "neg: service  pizzabytheslice  fare  fazolis  execution  implementation  atrociously  unmistakably  overstatement  arianas  \n",
      "pos: witha  cuisine  authetic  authentic  value  bolting  foood  grubs  atomsphere  fare \n"
     ]
    }
   ],
   "source": [
    "%load_ext autoreload\n",
    "%autoreload 2\n",
    "\n",
    "import logging\n",
    "logging.basicConfig(format='%(asctime)s : %(levelname)s : %(message)s', level=logging.DEBUG)\n",
    "\n",
    "import sys\n",
    "import numpy as np\n",
    "import pandas as pd\n",
    "from copy import deepcopy\n",
    "from gensim.models import Word2Vec\n",
    "from gensim.models import Phrases\n",
    "\n",
    "import re\n",
    "alteos = re.compile(r'( [!\\?] )')\n",
    "\n",
    "def revsplit(l):\n",
    "    l = alteos.sub(r' \\1 . ', l).rstrip(\"( \\. )*\\n\")\n",
    "    return [s.split() for s in l.split(\" . \")]\n",
    "\n",
    "def YelpReviews( stars = [1,2,3,4,5], prefix=\"train\" ):\n",
    "    for nstar in stars:\n",
    "        for line in open(\"data/yelp%s%dstar.txt\"%(prefix,nstar)):\n",
    "            yield revsplit(line)\n",
    "## grab all sentences; good bad and ugly\n",
    "allsentences = [ s for r in YelpReviews() for s in r ]\n",
    "len(allsentences)\n",
    "\n",
    "docgrp = {'neg': [1,2], 'pos': [5]} \n",
    "reviews = { g: list(YelpReviews(docgrp[g])) for g in docgrp }\n",
    "\n",
    "jointmodel = Word2Vec(workers=4, iter=10)\n",
    "np.random.shuffle(allsentences)\n",
    "jointmodel.build_vocab(allsentences)  \n",
    "\n",
    "model = { g: deepcopy(jointmodel) for g in docgrp }\n",
    "for g in model:\n",
    "    print g\n",
    "    sent = [l for r in reviews[g] for l in r]\n",
    "    np.random.shuffle(sent)\n",
    "    model[g].train(sent, total_examples=len(sent))\n",
    "\n",
    "word = \"food\"\n",
    "for g in docgrp: \n",
    "    print \"\\n\"+g+\":\",\n",
    "    for (w,v) in model[g].most_similar([word]):\n",
    "        print w + \" \",\n",
    " \n",
    "testrev = { g: list(YelpReviews(docgrp[g], \"test\")) for g in docgrp }\n",
    "sentences = [s for s in testrev['neg'][0]]"
   ]
  },
  {
   "cell_type": "code",
   "execution_count": 2,
   "metadata": {
    "collapsed": false
   },
   "outputs": [
    {
     "data": {
      "text/plain": [
       "array([  -16.79910088, -1430.9642334 , -1388.35742188], dtype=float32)"
      ]
     },
     "execution_count": 2,
     "metadata": {},
     "output_type": "execute_result"
    }
   ],
   "source": [
    "model['neg'].score(sentences[:3])"
   ]
  },
  {
   "cell_type": "code",
   "execution_count": 3,
   "metadata": {
    "collapsed": true
   },
   "outputs": [],
   "source": [
    "def getprobs(rev, grp):\n",
    "    sentences =  [(i,s) for i,r in enumerate(rev) for s in r]\n",
    "    eta = pd.DataFrame(\n",
    "            { g: model[g].score([s for i,s in sentences])  \n",
    "             for g in grp } )\n",
    "    probs = eta.subtract( eta.max('columns'), 'rows') \n",
    "    probs = np.exp( probs )\n",
    "    probs = probs.divide(probs.sum('columns'), \"rows\")\n",
    "    probs['cnt'] = 1\n",
    "    probs = probs.groupby([i for i,s in sentences]).sum()\n",
    "    probs = probs.divide(probs[\"cnt\"], 'rows').drop(\"cnt\", 1)\n",
    "    return(probs)\n"
   ]
  },
  {
   "cell_type": "code",
   "execution_count": 4,
   "metadata": {
    "collapsed": false
   },
   "outputs": [],
   "source": [
    "probs = {g: getprobs(testrev[g], docgrp) for g in docgrp }"
   ]
  },
  {
   "cell_type": "code",
   "execution_count": 5,
   "metadata": {
    "collapsed": false
   },
   "outputs": [
    {
     "data": {
      "text/plain": [
       "<matplotlib.text.Text at 0x16e17fed0>"
      ]
     },
     "execution_count": 5,
     "metadata": {},
     "output_type": "execute_result"
    },
    {
     "data": {
      "image/png": "[encoded data removed]",
      "text/plain": [
       "<matplotlib.figure.Figure at 0x16e48e150>"
      ]
     },
     "metadata": {},
     "output_type": "display_data"
    }
   ],
   "source": [
    "import matplotlib.pyplot as plt\n",
    "%matplotlib inline\n",
    "\n",
    "fig = plt.figure(figsize=(7,4))\n",
    "plt.hist(probs['neg']['pos'],normed=1,\n",
    "    color=\"red\", alpha=.6, label=\"true negative\", linewidth=1)\n",
    "plt.hist(probs['pos']['pos'],normed=1,\n",
    "    color=\"yellow\", alpha=.6, label=\"true positive\", linewidth=1)\n",
    "plt.xlim([0,1])\n",
    "plt.ylim([0,5])\n",
    "plt.legend(frameon=False, loc='upper center')\n",
    "plt.xlabel(\"prob positive\")\n",
    "plt.ylabel(\"density\")\n",
    "#fig.savefig(\"graphs/coarseprobs.pdf\", format=\"pdf\", bbox_inches=\"tight\")\n"
   ]
  },
  {
   "cell_type": "code",
   "execution_count": null,
   "metadata": {
    "collapsed": true
   },
   "outputs": [],
   "source": []
  }
 ],
 "metadata": {
  "kernelspec": {
   "display_name": "Python 2",
   "language": "python",
   "name": "python2"
  },
  "language_info": {
   "codemirror_mode": {
    "name": "ipython",
    "version": 2
   },
   "file_extension": ".py",
   "mimetype": "text/x-python",
   "name": "python",
   "nbconvert_exporter": "python",
   "pygments_lexer": "ipython2",
   "version": "2.7.10"
  }
 },
 "nbformat": 4,
 "nbformat_minor": 0
}
