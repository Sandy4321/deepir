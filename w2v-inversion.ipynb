{
 "metadata": {
  "name": "",
  "signature": "sha256:d765fc2c083d426c86ff6f7f73b8b5b22c536112920e9dc7e6a3ae815e94ea62"
 },
 "nbformat": 3,
 "nbformat_minor": 0,
 "worksheets": [
  {
   "cells": [
    {
     "cell_type": "heading",
     "level": 1,
     "metadata": {},
     "source": [
      "Document classification by inversion of distributed language representations"
     ]
    },
    {
     "cell_type": "markdown",
     "metadata": {},
     "source": [
      "The skip-gram probabalistic language model is trained to, for window $b$, maximize for each word\n",
      "\n",
      "$$\n",
      "\\prod_{k\\neq t,~k=t-b}^{t+b} \\mathrm{p}(w_k\\mid w_t)\n",
      "$$\n",
      "\n",
      "This probability is calculated for all possible word pairs over a sentence (some defined short chunk of language).\n",
      "\n",
      "In the word2vec formulation, each probability is represented as\n",
      "\n",
      "$$\n",
      "\\mathrm{p}(w \\mid w_I) = \\prod_{j=1}^{L(w)-1} \\sigma\\left( \\mathrm{ch}\\left[\\eta(w,j+1)\\right] \\mathbf{u}_{\\eta(w,j)}^\\top \\mathbf{v}_{w_I} \\right)\n",
      "$$\n",
      "\n",
      "where \n",
      "* $\\eta(w,i)$ is the $i^{th}$ node in a binary huffman tree representation (path) for word $w$, \n",
      "* $\\sigma(x) = 1/(1 + \\exp[-x])$,\n",
      "* and $\\mathrm{ch}(\\eta) \\in \\{-1,+1\\}$ translates from left/right child to +/- one.\n",
      "\n",
      "The binary huffman tree represents each word as a series of bits, so that the probability of word $w$ given word $w_I$ can be written as the product of probabilities that each bit is either on or off (represented above through the $\\mathrm{ch}$ function)."
     ]
    },
    {
     "cell_type": "code",
     "collapsed": false,
     "input": [
      "# An example binary huffman tree.\n",
      "!dot -Tpng graphs/bht.dot -o graphs/bht.png\n",
      "from IPython.display import Image\n",
      "Image(filename='graphs/bht.png') \n",
      "\n",
      "# Note that it is a prefix tree: you know the total length after each point given bits to that point."
     ],
     "language": "python",
     "metadata": {},
     "outputs": [
      {
       "metadata": {},
       "output_type": "pyout",
       "png": "[encoded data removed]",
       "prompt_number": 1,
       "text": [
        "<IPython.core.display.Image at 0x7f8a1d931748>"
       ]
      }
     ],
     "prompt_number": 1
    },
    {
     "cell_type": "markdown",
     "metadata": {},
     "source": [
      "Given a fitted representation, we can score any new sentence (and sum across them for documents) according to the model _implied_ by the training process.  This gives a document (log) probability under that representation.  This can be calculated for language representations trained on each of the corpora associated with some class labels.  When combined with priors for each class label and inversion via Bayes rule, the document probabilities provide class probabilities."
     ]
    },
    {
     "cell_type": "markdown",
     "metadata": {},
     "source": [
      "Comparators would be any linear model regression onto phrase counts (e.g., the logistic lasso below),  the [doc2vec](http://arxiv.org/abs/1405.4053) machinery (also built into gensim), and the [Socher et al](http://nlp.stanford.edu/~socherr/EMNLP2013_RNTN.pdf) RNTN.  The doc2vec tool maps from documents to a vector space of fixed dimension, which can then be used as input to off-the-shelf machine learners.  The latter builds the sentiment/meaning into the model itself, and conditions upon this information during the training process.\n",
      "\n",
      "Advantages of the inversion framework include:\n",
      "* modularity: it works for any model of language that can (or its training can) be interpreted as a probabilistic model.\n",
      "* transparency and replicability: a simple extension of any software for training distributed language models.\n",
      "* performance (consider also 'training' the class priors, so as to correct for generative model misspecificiation).\n",
      "\n"
     ]
    },
    {
     "cell_type": "markdown",
     "metadata": {},
     "source": [
      "## Example: yelp data\n",
      "\n",
      "We'll look at some proof-of-concept on the kaggle [yelp recruiting contest data](http://www.kaggle.com/c/yelp-recruiting/data), split into star-rating files via [parseyelp.py](https://github.com/TaddyLab/deepir/blob/master/code/parseyelp.py)."
     ]
    },
    {
     "cell_type": "code",
     "collapsed": false,
     "input": [
      "import sys\n",
      "import numpy as np\n",
      "import pandas as pd\n",
      "from copy import deepcopy\n",
      "from gensim.models import Word2Vec\n",
      "from gensim.models import Phrases\n",
      "\n",
      "fin = open(\"data/yelptrain1star.txt\")\n",
      "firstbadreview = fin.readline()\n",
      "print(firstbadreview)"
     ],
     "language": "python",
     "metadata": {},
     "outputs": [
      {
       "output_type": "stream",
       "stream": "stdout",
       "text": [
        " u can go there n check car out . if u wanna buy 000 there ? thats wrong move ! if u even want car service from there ? u made biggest mistake of ur life !! i had 000 time asked my girlfriend take my car there oil service guess what ? they ripped my girlfriend off by lying how bad my car now . if without fixing problem . might bring some serious accident . then she did what they said . 000 brand new tires timing belt 000 new brake pads . u know whys worst ? all of those above i had just changed 000 months before !!! what trashy dealer that ? people better off go somewhere ! \n",
        "\n"
       ]
      }
     ],
     "prompt_number": 1
    },
    {
     "cell_type": "code",
     "collapsed": false,
     "input": [
      "## define a review generator\n",
      "\n",
      "import re\n",
      "alteos = re.compile(r'( [!\\?] )')\n",
      "\n",
      "def revsplit(l):\n",
      "    l = alteos.sub(r' \\1 . ', l).rstrip(\"( \\. )*\\n\")\n",
      "    return [s.split() for s in l.split(\" . \")]\n",
      "\n",
      "def YelpReviews( stars = [1,2,3,4,5], prefix=\"train\" ):\n",
      "    for nstar in stars:\n",
      "        for line in open(\"data/yelp%s%dstar.txt\"%(prefix,nstar)):\n",
      "            yield revsplit(line)\n"
     ],
     "language": "python",
     "metadata": {},
     "outputs": [],
     "prompt_number": 2
    },
    {
     "cell_type": "code",
     "collapsed": false,
     "input": [
      "## grab all sentences; good bad and ugly\n",
      "allsentences = [ s for r in YelpReviews() for s in r ]\n",
      "len(allsentences)"
     ],
     "language": "python",
     "metadata": {},
     "outputs": [
      {
       "metadata": {},
       "output_type": "pyout",
       "prompt_number": 3,
       "text": [
        "2027394"
       ]
      }
     ],
     "prompt_number": 3
    },
    {
     "cell_type": "code",
     "collapsed": false,
     "input": [
      "docgrp = {'neg': [1,2], 'pos': [5]} \n",
      "[g for g in docgrp]"
     ],
     "language": "python",
     "metadata": {},
     "outputs": [
      {
       "metadata": {},
       "output_type": "pyout",
       "prompt_number": 4,
       "text": [
        "['neg', 'pos']"
       ]
      }
     ],
     "prompt_number": 4
    },
    {
     "cell_type": "code",
     "collapsed": false,
     "input": [
      "reviews = { g: list(YelpReviews(docgrp[g])) for g in docgrp }\n",
      "ndoc = pd.Series( {g: len(reviews[g]) for g in docgrp} , dtype=\"float64\" )"
     ],
     "language": "python",
     "metadata": {},
     "outputs": [],
     "prompt_number": 5
    },
    {
     "cell_type": "code",
     "collapsed": false,
     "input": [
      "reviews['neg'][0][6:10]"
     ],
     "language": "python",
     "metadata": {},
     "outputs": [
      {
       "metadata": {},
       "output_type": "pyout",
       "prompt_number": 6,
       "text": [
        "[['if', 'without', 'fixing', 'problem'],\n",
        " ['might', 'bring', 'some', 'serious', 'accident'],\n",
        " ['then', 'she', 'did', 'what', 'they', 'said'],\n",
        " ['000',\n",
        "  'brand',\n",
        "  'new',\n",
        "  'tires',\n",
        "  'timing',\n",
        "  'belt',\n",
        "  '000',\n",
        "  'new',\n",
        "  'brake',\n",
        "  'pads']]"
       ]
      }
     ],
     "prompt_number": 6
    },
    {
     "cell_type": "code",
     "collapsed": false,
     "input": [
      "jointmodel = Word2Vec(workers=4)\n",
      "np.random.shuffle(allsentences)\n",
      "jointmodel.build_vocab(allsentences)  "
     ],
     "language": "python",
     "metadata": {},
     "outputs": [],
     "prompt_number": 7
    },
    {
     "cell_type": "code",
     "collapsed": false,
     "input": [
      "model = { g: deepcopy(jointmodel) for g in docgrp }\n"
     ],
     "language": "python",
     "metadata": {},
     "outputs": [],
     "prompt_number": 8
    },
    {
     "cell_type": "code",
     "collapsed": false,
     "input": [
      "def trainW2V(g, T=20):\n",
      "    sent = [l for r in reviews[g] for l in r]\n",
      "    model[g].min_alpha = model[g].alpha\n",
      "    for epoch in range(T):\n",
      "        print(epoch, end=\" \")\n",
      "        np.random.shuffle(sent)\n",
      "        model[g].train(sent)\n",
      "        model[g].alpha *= 0.9  \n",
      "        model[g].min_alpha = model[g].alpha  \n",
      "    print(\".\")\n"
     ],
     "language": "python",
     "metadata": {},
     "outputs": [],
     "prompt_number": 27
    },
    {
     "cell_type": "code",
     "collapsed": false,
     "input": [
      "for g in docgrp: \n",
      "    print(g, end=\": \")\n",
      "    trainW2V( g )\n",
      "    "
     ],
     "language": "python",
     "metadata": {},
     "outputs": [
      {
       "output_type": "stream",
       "stream": "stdout",
       "text": [
        "neg: 0 1"
       ]
      },
      {
       "output_type": "stream",
       "stream": "stdout",
       "text": [
        " 2"
       ]
      },
      {
       "output_type": "stream",
       "stream": "stdout",
       "text": [
        " 3"
       ]
      },
      {
       "output_type": "stream",
       "stream": "stdout",
       "text": [
        " 4"
       ]
      },
      {
       "output_type": "stream",
       "stream": "stdout",
       "text": [
        " 5"
       ]
      },
      {
       "output_type": "stream",
       "stream": "stdout",
       "text": [
        " 6"
       ]
      },
      {
       "output_type": "stream",
       "stream": "stdout",
       "text": [
        " 7"
       ]
      },
      {
       "output_type": "stream",
       "stream": "stdout",
       "text": [
        " 8"
       ]
      },
      {
       "output_type": "stream",
       "stream": "stdout",
       "text": [
        " 9"
       ]
      },
      {
       "output_type": "stream",
       "stream": "stdout",
       "text": [
        " 10"
       ]
      },
      {
       "output_type": "stream",
       "stream": "stdout",
       "text": [
        " 11"
       ]
      },
      {
       "output_type": "stream",
       "stream": "stdout",
       "text": [
        " 12"
       ]
      },
      {
       "output_type": "stream",
       "stream": "stdout",
       "text": [
        " 13"
       ]
      },
      {
       "output_type": "stream",
       "stream": "stdout",
       "text": [
        " 14"
       ]
      },
      {
       "output_type": "stream",
       "stream": "stdout",
       "text": [
        " 15"
       ]
      },
      {
       "output_type": "stream",
       "stream": "stdout",
       "text": [
        " 16"
       ]
      },
      {
       "output_type": "stream",
       "stream": "stdout",
       "text": [
        " 17"
       ]
      },
      {
       "output_type": "stream",
       "stream": "stdout",
       "text": [
        " 18"
       ]
      },
      {
       "output_type": "stream",
       "stream": "stdout",
       "text": [
        " 19"
       ]
      },
      {
       "output_type": "stream",
       "stream": "stdout",
       "text": [
        " ."
       ]
      },
      {
       "output_type": "stream",
       "stream": "stdout",
       "text": [
        "\n",
        "pos: 0 1"
       ]
      },
      {
       "output_type": "stream",
       "stream": "stdout",
       "text": [
        " 2"
       ]
      },
      {
       "output_type": "stream",
       "stream": "stdout",
       "text": [
        " 3"
       ]
      },
      {
       "output_type": "stream",
       "stream": "stdout",
       "text": [
        " 4"
       ]
      },
      {
       "output_type": "stream",
       "stream": "stdout",
       "text": [
        " 5"
       ]
      },
      {
       "output_type": "stream",
       "stream": "stdout",
       "text": [
        " 6"
       ]
      },
      {
       "output_type": "stream",
       "stream": "stdout",
       "text": [
        " 7"
       ]
      },
      {
       "output_type": "stream",
       "stream": "stdout",
       "text": [
        " 8"
       ]
      },
      {
       "output_type": "stream",
       "stream": "stdout",
       "text": [
        " 9"
       ]
      },
      {
       "output_type": "stream",
       "stream": "stdout",
       "text": [
        " 10"
       ]
      },
      {
       "output_type": "stream",
       "stream": "stdout",
       "text": [
        " 11"
       ]
      },
      {
       "output_type": "stream",
       "stream": "stdout",
       "text": [
        " 12"
       ]
      },
      {
       "output_type": "stream",
       "stream": "stdout",
       "text": [
        " 13"
       ]
      },
      {
       "output_type": "stream",
       "stream": "stdout",
       "text": [
        " 14"
       ]
      },
      {
       "output_type": "stream",
       "stream": "stdout",
       "text": [
        " 15"
       ]
      },
      {
       "output_type": "stream",
       "stream": "stdout",
       "text": [
        " 16"
       ]
      },
      {
       "output_type": "stream",
       "stream": "stdout",
       "text": [
        " 17"
       ]
      },
      {
       "output_type": "stream",
       "stream": "stdout",
       "text": [
        " 18"
       ]
      },
      {
       "output_type": "stream",
       "stream": "stdout",
       "text": [
        " 19"
       ]
      },
      {
       "output_type": "stream",
       "stream": "stdout",
       "text": [
        " ."
       ]
      },
      {
       "output_type": "stream",
       "stream": "stdout",
       "text": [
        "\n"
       ]
      }
     ],
     "prompt_number": 10
    },
    {
     "cell_type": "code",
     "collapsed": false,
     "input": [
      "def nearby(word, g):\n",
      "    print(word)\n",
      "    print( \"%s:\"%str(g), end=\" \")\n",
      "    for (w,v) in model[g].most_similar([word]):\n",
      "        print(w, end=\" \")\n",
      "    print(\"\\n\")\n"
     ],
     "language": "python",
     "metadata": {},
     "outputs": [],
     "prompt_number": 11
    },
    {
     "cell_type": "code",
     "collapsed": false,
     "input": [
      "for g in docgrp: nearby(\"food\", g)\n",
      "for g in docgrp: nearby(\"service\", g)\n",
      "for g in docgrp: nearby(\"value\", g)\n"
     ],
     "language": "python",
     "metadata": {},
     "outputs": [
      {
       "output_type": "stream",
       "stream": "stdout",
       "text": [
        "food\n",
        "neg: service pizzabytheslice fazolis fanciful unmistakably overstatement fare agreeably barquita fast \n",
        "\n",
        "food\n",
        "pos: witha cuisine bolting authentic foood value waite ldm service nontheless \n",
        "\n",
        "service\n",
        "neg: sevice arianas meek craftsmanship !!!!!!!!!!!!!!!!! inconsistant unknowledgeable barbarian unexceptional notched \n",
        "\n",
        "service\n",
        "pos: serivce devin sevice bolting waitstaff ambience atmoshphere ambiance waite atomsphere \n",
        "\n",
        "value\n",
        "neg: qualtiy price quality insider roa quantity appallingly craftsmanship 100th pricing \n",
        "\n",
        "value\n",
        "pos: price"
       ]
      },
      {
       "output_type": "stream",
       "stream": "stdout",
       "text": [
        " pricing overall prices quality feri rages service atmo auctioned \n",
        "\n"
       ]
      }
     ],
     "prompt_number": 12
    },
    {
     "cell_type": "markdown",
     "metadata": {},
     "source": [
      "Everything to this point uses standard gensim.  For the next bit, we're using the `score` functions implemented in the [taddylab fork](https://github.com/TaddyLab/gensim)."
     ]
    },
    {
     "cell_type": "code",
     "collapsed": false,
     "input": [
      "testrev = { g: list(YelpReviews(docgrp[g], \"test\")) for g in docgrp }"
     ],
     "language": "python",
     "metadata": {},
     "outputs": [],
     "prompt_number": 13
    },
    {
     "cell_type": "code",
     "collapsed": false,
     "input": [
      "def getprobs(rev, grp):\n",
      "    sentences =  [(i,s) for i,r in enumerate(rev) for s in r]\n",
      "    eta = pd.DataFrame(\n",
      "            { g: model[g].score([s for i,s in sentences])  \n",
      "             for g in grp } )\n",
      "    probs = eta.subtract( eta.max('columns'), 'rows') \n",
      "    probs = np.exp( probs )\n",
      "    probs = probs.divide(probs.sum('columns'), \"rows\")\n",
      "    probs['cnt'] = 1\n",
      "    probs = probs.groupby([i for i,s in sentences]).sum()\n",
      "    probs = probs.divide(probs[\"cnt\"], 'rows').drop(\"cnt\", 1)\n",
      "    return(probs)"
     ],
     "language": "python",
     "metadata": {},
     "outputs": [],
     "prompt_number": 83
    },
    {
     "cell_type": "code",
     "collapsed": false,
     "input": [
      "probs = {g: getprobs(testrev[g], docgrp) for g in docgrp }"
     ],
     "language": "python",
     "metadata": {},
     "outputs": [],
     "prompt_number": 15
    },
    {
     "cell_type": "code",
     "collapsed": false,
     "input": [
      "import matplotlib.pyplot as plt\n",
      "%matplotlib inline\n",
      "\n",
      "fig = plt.figure(figsize=(10,5))\n",
      "\n",
      "fig.add_subplot(1,2,1)\n",
      "plt.hist(probs['neg']['pos'],color=\"red\", alpha=.5, normed=1)\n",
      "plt.title(\"true negative\")\n",
      "plt.xlabel(\"prob positive\")\n",
      "plt.ylabel(\"density\")\n",
      "fig.add_subplot(1,2,2)\n",
      "plt.hist(probs['pos']['pos'],color=\"yellow\", alpha=.6, normed=1)\n",
      "plt.title(\"true positive\")\n",
      "plt.xlabel(\"prob positive\")\n",
      "plt.ylabel(\"density\")\n",
      "fig.savefig(\"graphs/coarseprobs2.pdf\", format=\"pdf\", bbox_inches=\"tight\")\n"
     ],
     "language": "python",
     "metadata": {},
     "outputs": [
      {
       "metadata": {},
       "output_type": "display_data",
       "png": "[encoded data removed]",
       "text": [
        "<matplotlib.figure.Figure at 0x7f0b6bc44a58>"
       ]
      }
     ],
     "prompt_number": 218
    },
    {
     "cell_type": "code",
     "collapsed": false,
     "input": [
      "fig = plt.figure(figsize=(7,4))\n",
      "plt.hist(probs['neg']['pos'],normed=1,\n",
      "    color=\"red\", alpha=.6, label=\"true negative\", linewidth=1)\n",
      "plt.hist(probs['pos']['pos'],normed=1,\n",
      "    color=\"yellow\", alpha=.6, label=\"true positive\", linewidth=1)\n",
      "plt.xlim([0,1])\n",
      "plt.legend(frameon=False, loc='upper center')\n",
      "plt.xlabel(\"prob positive\")\n",
      "plt.ylabel(\"density\")\n",
      "fig.savefig(\"graphs/coarseprobs.pdf\", format=\"pdf\", bbox_inches=\"tight\")\n"
     ],
     "language": "python",
     "metadata": {},
     "outputs": [
      {
       "metadata": {},
       "output_type": "display_data",
       "png": "[encoded data removed]",
       "text": [
        "<matplotlib.figure.Figure at 0x7f0b421aee48>"
       ]
      }
     ],
     "prompt_number": 217
    },
    {
     "cell_type": "code",
     "collapsed": false,
     "input": [
      "yhat = {g: probs[g].idxmax('columns') for g in docgrp}\n",
      "mc = pd.DataFrame({\n",
      "    'mcr': {g: (yhat[g] != g).mean() for g in docgrp},\n",
      "    'n': {g: len(testrev[g]) for g in docgrp}\n",
      "    })\n",
      "print(mc)\n",
      "\n",
      "overall = mc.product(\"columns\").sum()/mc['n'].sum()\n",
      "print(\"\\nOverall MCR: %.3f\" %overall)"
     ],
     "language": "python",
     "metadata": {},
     "outputs": [
      {
       "output_type": "stream",
       "stream": "stdout",
       "text": [
        "          mcr     n\n",
        "neg  0.065507  4427\n",
        "pos  0.057861  8797\n",
        "\n",
        "Overall MCR: 0.060\n"
       ]
      }
     ],
     "prompt_number": 78
    },
    {
     "cell_type": "markdown",
     "metadata": {},
     "source": [
      "So the fit looks nice and tight. OOS we get around 6% misclassification rate on the reviews."
     ]
    },
    {
     "cell_type": "code",
     "collapsed": false,
     "input": [
      "## also binomial deviance\n",
      "lhdcoarse = { g: [probs[g].ix[i,y] for i,y in enumerate(yhat[g]) ] for g in docgrp }\n",
      "devcoarse = [ -2.0*np.log(p) for g in lhdcoarse for p in lhdcoarse[g] ]\n",
      "np.sum(devcoarse)/len(devcoarse)"
     ],
     "language": "python",
     "metadata": {},
     "outputs": [
      {
       "metadata": {},
       "output_type": "pyout",
       "prompt_number": 238,
       "text": [
        "0.4039972385161571"
       ]
      }
     ],
     "prompt_number": 238
    },
    {
     "cell_type": "code",
     "collapsed": false,
     "input": [
      "svec = np.concatenate((probs['neg']['pos'],probs['pos']['pos']), axis=0)\n",
      "allrev = [[w for s in r for w in s] for r in testrev['neg']+testrev['pos']]"
     ],
     "language": "python",
     "metadata": {},
     "outputs": [],
     "prompt_number": 79
    },
    {
     "cell_type": "code",
     "collapsed": false,
     "input": [
      "import pandas as pd\n",
      "diff = pd.Series( svec )\n",
      "tops = diff.order(ascending=False)[:5]\n",
      "print(\"TOPS\\n\")\n",
      "for i in tops.index:\n",
      "    print( \" \".join(allrev[i]), end=\"\\n\\n\")\n",
      "bots = diff.order()[:5]\n",
      "print(\"BOTTOMS\\n\")\n",
      "for i in bots.index:\n",
      "    print( \" \".join(allrev[i]), end=\"\\n\\n\")\n"
     ],
     "language": "python",
     "metadata": {},
     "outputs": [
      {
       "output_type": "stream",
       "stream": "stdout",
       "text": [
        "TOPS\n",
        "\n",
        "awesome experience great atmosphere food was awesome make sure you try tots they unbelievable craft beers on tap ... what more could you ask ? we will definitely be back soon !\n",
        "\n",
        "new place with best hookah customer service beyond great\n",
        "\n",
        "this best mexican food in phoenix .... first impression little intimidating carne asada sign on van but it worth it ! one of my good friends introduced me this place i have been coming back there ever since then ! it late night place but sundays they open little earlier than thurs sat hours .... try it ! everyone i have introduced place has loved it :) try carne asada tacos .... ask side of salsa too !\n",
        "\n",
        "rebecca highly skilled friendly chiropractor i absolutely recommend her anyone in need of chiropractic care !\n",
        "\n",
        "great food great beer one of few brew pubs in phoenix area i would recommend\n",
        "\n",
        "BOTTOMS\n",
        "\n",
        "this crappy store .. all they have bulk ashley furniture manager of store veronica scam artist ... they just rob you off your money .... i ordered some furnitre had wait week get it from store when i went there there was only part of order new they wanted me pay $ 000 delivery ... avoid them by any means\n",
        "\n",
        "i went over there because i was feeling good thought i would buy couple of cute bra i could have went fashion square but why not try this place i had look someone help me when i found one some idiot have left one of drawer open i scratched my leg i was trying tell sales lady she didnt give too rats ass she was more interested on selling me bra i wasnt trying get free shit so my night was ruined i will probably will not be back that store tell my female friends not go there co workers\n",
        "\n",
        "from experiance working there dont go if something falls on floor they pick it right up give it customer pay 000 dollars cause economy they say dont care about customers other employees inculding owner jimmy dont wash there hands dont go\n",
        "\n",
        "awful awful awful cliff notes version / african pharmacist whos name i missed refused fill script after telling me day before all i needed was my doctor call in which he did / flat out nasty rude /\n",
        "\n",
        "bad service bad followup with us this not place spend more than $ 000 on dinner we had bad experience management staff said they were gonna fix it we spent almost $ 000 on dinner they said they were gonna send us $ 000 gift card bad experience we got $ 000 so all i can say thanks beer snacks but we will never be back if your looking good time here go yard house way better food staff\n",
        "\n"
       ]
      }
     ],
     "prompt_number": 80
    },
    {
     "cell_type": "markdown",
     "metadata": {},
     "source": [
      "### Now, same thing but on fine scale\n",
      "\n",
      "This copies most of the code from above and replaces it with classification amongst the 1-5 ratings."
     ]
    },
    {
     "cell_type": "code",
     "collapsed": false,
     "input": [
      "docgrp_fine = {str(i) : [i] for i in range(1,6)} \n",
      "docgrp_fine"
     ],
     "language": "python",
     "metadata": {},
     "outputs": [
      {
       "metadata": {},
       "output_type": "pyout",
       "prompt_number": 28,
       "text": [
        "{'1': [1], '2': [2], '5': [5], '4': [4], '3': [3]}"
       ]
      }
     ],
     "prompt_number": 28
    },
    {
     "cell_type": "code",
     "collapsed": false,
     "input": [
      "for g in docgrp_fine:\n",
      "    print(g, end=\": \")\n",
      "    reviews[g] = list(YelpReviews(docgrp_fine[g]))\n",
      "    model[g] = deepcopy(jointmodel)\n",
      "    trainW2V( g )\n"
     ],
     "language": "python",
     "metadata": {},
     "outputs": [
      {
       "output_type": "stream",
       "stream": "stdout",
       "text": [
        "1: 0"
       ]
      },
      {
       "output_type": "stream",
       "stream": "stdout",
       "text": [
        " 1"
       ]
      },
      {
       "output_type": "stream",
       "stream": "stdout",
       "text": [
        " 2"
       ]
      },
      {
       "output_type": "stream",
       "stream": "stdout",
       "text": [
        " 3"
       ]
      },
      {
       "output_type": "stream",
       "stream": "stdout",
       "text": [
        " 4"
       ]
      },
      {
       "output_type": "stream",
       "stream": "stdout",
       "text": [
        " 5"
       ]
      },
      {
       "output_type": "stream",
       "stream": "stdout",
       "text": [
        " 6"
       ]
      },
      {
       "output_type": "stream",
       "stream": "stdout",
       "text": [
        " 7"
       ]
      },
      {
       "output_type": "stream",
       "stream": "stdout",
       "text": [
        " 8"
       ]
      },
      {
       "output_type": "stream",
       "stream": "stdout",
       "text": [
        " 9"
       ]
      },
      {
       "output_type": "stream",
       "stream": "stdout",
       "text": [
        " 10"
       ]
      },
      {
       "output_type": "stream",
       "stream": "stdout",
       "text": [
        " 11"
       ]
      },
      {
       "output_type": "stream",
       "stream": "stdout",
       "text": [
        " 12"
       ]
      },
      {
       "output_type": "stream",
       "stream": "stdout",
       "text": [
        " 13"
       ]
      },
      {
       "output_type": "stream",
       "stream": "stdout",
       "text": [
        " 14"
       ]
      },
      {
       "output_type": "stream",
       "stream": "stdout",
       "text": [
        " 15"
       ]
      },
      {
       "output_type": "stream",
       "stream": "stdout",
       "text": [
        " 16"
       ]
      },
      {
       "output_type": "stream",
       "stream": "stdout",
       "text": [
        " 17"
       ]
      },
      {
       "output_type": "stream",
       "stream": "stdout",
       "text": [
        " 18"
       ]
      },
      {
       "output_type": "stream",
       "stream": "stdout",
       "text": [
        " 19"
       ]
      },
      {
       "output_type": "stream",
       "stream": "stdout",
       "text": [
        " ."
       ]
      },
      {
       "output_type": "stream",
       "stream": "stdout",
       "text": [
        "\n",
        "2: 0"
       ]
      },
      {
       "output_type": "stream",
       "stream": "stdout",
       "text": [
        " 1"
       ]
      },
      {
       "output_type": "stream",
       "stream": "stdout",
       "text": [
        " 2"
       ]
      },
      {
       "output_type": "stream",
       "stream": "stdout",
       "text": [
        " 3"
       ]
      },
      {
       "output_type": "stream",
       "stream": "stdout",
       "text": [
        " 4"
       ]
      },
      {
       "output_type": "stream",
       "stream": "stdout",
       "text": [
        " 5"
       ]
      },
      {
       "output_type": "stream",
       "stream": "stdout",
       "text": [
        " 6"
       ]
      },
      {
       "output_type": "stream",
       "stream": "stdout",
       "text": [
        " 7"
       ]
      },
      {
       "output_type": "stream",
       "stream": "stdout",
       "text": [
        " 8"
       ]
      },
      {
       "output_type": "stream",
       "stream": "stdout",
       "text": [
        " 9"
       ]
      },
      {
       "output_type": "stream",
       "stream": "stdout",
       "text": [
        " 10"
       ]
      },
      {
       "output_type": "stream",
       "stream": "stdout",
       "text": [
        " 11"
       ]
      },
      {
       "output_type": "stream",
       "stream": "stdout",
       "text": [
        " 12"
       ]
      },
      {
       "output_type": "stream",
       "stream": "stdout",
       "text": [
        " 13"
       ]
      },
      {
       "output_type": "stream",
       "stream": "stdout",
       "text": [
        " 14"
       ]
      },
      {
       "output_type": "stream",
       "stream": "stdout",
       "text": [
        " 15"
       ]
      },
      {
       "output_type": "stream",
       "stream": "stdout",
       "text": [
        " 16"
       ]
      },
      {
       "output_type": "stream",
       "stream": "stdout",
       "text": [
        " 17"
       ]
      },
      {
       "output_type": "stream",
       "stream": "stdout",
       "text": [
        " 18"
       ]
      },
      {
       "output_type": "stream",
       "stream": "stdout",
       "text": [
        " 19"
       ]
      },
      {
       "output_type": "stream",
       "stream": "stdout",
       "text": [
        " ."
       ]
      },
      {
       "output_type": "stream",
       "stream": "stdout",
       "text": [
        "\n",
        "5: 0"
       ]
      },
      {
       "output_type": "stream",
       "stream": "stdout",
       "text": [
        " 1"
       ]
      },
      {
       "output_type": "stream",
       "stream": "stdout",
       "text": [
        " 2"
       ]
      },
      {
       "output_type": "stream",
       "stream": "stdout",
       "text": [
        " 3"
       ]
      },
      {
       "output_type": "stream",
       "stream": "stdout",
       "text": [
        " 4"
       ]
      },
      {
       "output_type": "stream",
       "stream": "stdout",
       "text": [
        " 5"
       ]
      },
      {
       "output_type": "stream",
       "stream": "stdout",
       "text": [
        " 6"
       ]
      },
      {
       "output_type": "stream",
       "stream": "stdout",
       "text": [
        " 7"
       ]
      },
      {
       "output_type": "stream",
       "stream": "stdout",
       "text": [
        " 8"
       ]
      },
      {
       "output_type": "stream",
       "stream": "stdout",
       "text": [
        " 9"
       ]
      },
      {
       "output_type": "stream",
       "stream": "stdout",
       "text": [
        " 10"
       ]
      },
      {
       "output_type": "stream",
       "stream": "stdout",
       "text": [
        " 11"
       ]
      },
      {
       "output_type": "stream",
       "stream": "stdout",
       "text": [
        " 12"
       ]
      },
      {
       "output_type": "stream",
       "stream": "stdout",
       "text": [
        " 13"
       ]
      },
      {
       "output_type": "stream",
       "stream": "stdout",
       "text": [
        " 14"
       ]
      },
      {
       "output_type": "stream",
       "stream": "stdout",
       "text": [
        " 15"
       ]
      },
      {
       "output_type": "stream",
       "stream": "stdout",
       "text": [
        " 16"
       ]
      },
      {
       "output_type": "stream",
       "stream": "stdout",
       "text": [
        " 17"
       ]
      },
      {
       "output_type": "stream",
       "stream": "stdout",
       "text": [
        " 18"
       ]
      },
      {
       "output_type": "stream",
       "stream": "stdout",
       "text": [
        " 19"
       ]
      },
      {
       "output_type": "stream",
       "stream": "stdout",
       "text": [
        " ."
       ]
      },
      {
       "output_type": "stream",
       "stream": "stdout",
       "text": [
        "\n",
        "4: 0"
       ]
      },
      {
       "output_type": "stream",
       "stream": "stdout",
       "text": [
        " 1"
       ]
      },
      {
       "output_type": "stream",
       "stream": "stdout",
       "text": [
        " 2"
       ]
      },
      {
       "output_type": "stream",
       "stream": "stdout",
       "text": [
        " 3"
       ]
      },
      {
       "output_type": "stream",
       "stream": "stdout",
       "text": [
        " 4"
       ]
      },
      {
       "output_type": "stream",
       "stream": "stdout",
       "text": [
        " 5"
       ]
      },
      {
       "output_type": "stream",
       "stream": "stdout",
       "text": [
        " 6"
       ]
      },
      {
       "output_type": "stream",
       "stream": "stdout",
       "text": [
        " 7"
       ]
      },
      {
       "output_type": "stream",
       "stream": "stdout",
       "text": [
        " 8"
       ]
      },
      {
       "output_type": "stream",
       "stream": "stdout",
       "text": [
        " 9"
       ]
      },
      {
       "output_type": "stream",
       "stream": "stdout",
       "text": [
        " 10"
       ]
      },
      {
       "output_type": "stream",
       "stream": "stdout",
       "text": [
        " 11"
       ]
      },
      {
       "output_type": "stream",
       "stream": "stdout",
       "text": [
        " 12"
       ]
      },
      {
       "output_type": "stream",
       "stream": "stdout",
       "text": [
        " 13"
       ]
      },
      {
       "output_type": "stream",
       "stream": "stdout",
       "text": [
        " 14"
       ]
      },
      {
       "output_type": "stream",
       "stream": "stdout",
       "text": [
        " 15"
       ]
      },
      {
       "output_type": "stream",
       "stream": "stdout",
       "text": [
        " 16"
       ]
      },
      {
       "output_type": "stream",
       "stream": "stdout",
       "text": [
        " 17"
       ]
      },
      {
       "output_type": "stream",
       "stream": "stdout",
       "text": [
        " 18"
       ]
      },
      {
       "output_type": "stream",
       "stream": "stdout",
       "text": [
        " 19"
       ]
      },
      {
       "output_type": "stream",
       "stream": "stdout",
       "text": [
        " ."
       ]
      },
      {
       "output_type": "stream",
       "stream": "stdout",
       "text": [
        "\n",
        "3: 0"
       ]
      },
      {
       "output_type": "stream",
       "stream": "stdout",
       "text": [
        " 1"
       ]
      },
      {
       "output_type": "stream",
       "stream": "stdout",
       "text": [
        " 2"
       ]
      },
      {
       "output_type": "stream",
       "stream": "stdout",
       "text": [
        " 3"
       ]
      },
      {
       "output_type": "stream",
       "stream": "stdout",
       "text": [
        " 4"
       ]
      },
      {
       "output_type": "stream",
       "stream": "stdout",
       "text": [
        " 5"
       ]
      },
      {
       "output_type": "stream",
       "stream": "stdout",
       "text": [
        " 6"
       ]
      },
      {
       "output_type": "stream",
       "stream": "stdout",
       "text": [
        " 7"
       ]
      },
      {
       "output_type": "stream",
       "stream": "stdout",
       "text": [
        " 8"
       ]
      },
      {
       "output_type": "stream",
       "stream": "stdout",
       "text": [
        " 9"
       ]
      },
      {
       "output_type": "stream",
       "stream": "stdout",
       "text": [
        " 10"
       ]
      },
      {
       "output_type": "stream",
       "stream": "stdout",
       "text": [
        " 11"
       ]
      },
      {
       "output_type": "stream",
       "stream": "stdout",
       "text": [
        " 12"
       ]
      },
      {
       "output_type": "stream",
       "stream": "stdout",
       "text": [
        " 13"
       ]
      },
      {
       "output_type": "stream",
       "stream": "stdout",
       "text": [
        " 14"
       ]
      },
      {
       "output_type": "stream",
       "stream": "stdout",
       "text": [
        " 15"
       ]
      },
      {
       "output_type": "stream",
       "stream": "stdout",
       "text": [
        " 16"
       ]
      },
      {
       "output_type": "stream",
       "stream": "stdout",
       "text": [
        " 17"
       ]
      },
      {
       "output_type": "stream",
       "stream": "stdout",
       "text": [
        " 18"
       ]
      },
      {
       "output_type": "stream",
       "stream": "stdout",
       "text": [
        " 19"
       ]
      },
      {
       "output_type": "stream",
       "stream": "stdout",
       "text": [
        " ."
       ]
      },
      {
       "output_type": "stream",
       "stream": "stdout",
       "text": [
        "\n"
       ]
      }
     ],
     "prompt_number": 30
    },
    {
     "cell_type": "code",
     "collapsed": false,
     "input": [
      "for g in docgrp_fine:\n",
      "    testrev[g] =  list( YelpReviews(docgrp_fine[g], \"test\") )\n",
      "    probs[g] = getprobs(testrev[g], docgrp_fine)\n",
      "    yhat[g] = probs[g].idxmax(\"columns\")\n",
      "    "
     ],
     "language": "python",
     "metadata": {},
     "outputs": [],
     "prompt_number": 100
    },
    {
     "cell_type": "code",
     "collapsed": false,
     "input": [
      "mc_fine = pd.DataFrame({\n",
      "    'mcr': {g: (yhat[g] != g).mean() for g in docgrp_fine},\n",
      "    'n': {g: len(testrev[g]) for g in docgrp_fine}\n",
      "    })\n",
      "print(mc_fine)\n",
      "\n",
      "ntest = mc_fine['n'].sum()\n",
      "overall_fine = mc_fine.product(\"columns\").sum()/ntest\n",
      "print(\"\\nOverall Fine-Scale MCR: %.3f\" %overall_fine)"
     ],
     "language": "python",
     "metadata": {},
     "outputs": [
      {
       "output_type": "stream",
       "stream": "stdout",
       "text": [
        "        mcr     n\n",
        "1  0.250840  2380\n",
        "2  0.656082  2047\n",
        "3  0.634258  2849\n",
        "4  0.548598  6883\n",
        "5  0.278049  8797\n",
        "\n",
        "Overall Fine-Scale MCR: 0.434\n"
       ]
      }
     ],
     "prompt_number": 102
    },
    {
     "cell_type": "code",
     "collapsed": false,
     "input": [
      "## also multinomial deviance\n",
      "lhd = { g: [probs[g].ix[i,y] for i,y in enumerate(yhat[g]) ] for g in docgrp_fine }\n",
      "dev = [ -2.0*np.log(p) for g in lhd for p in lhd[g] ]\n",
      "np.sum(dev)/len(dev)"
     ],
     "language": "python",
     "metadata": {},
     "outputs": [
      {
       "metadata": {},
       "output_type": "pyout",
       "prompt_number": 133,
       "text": [
        "1.2489354154425962"
       ]
      }
     ],
     "prompt_number": 133
    },
    {
     "cell_type": "markdown",
     "metadata": {},
     "source": [
      "Finally, phrases to disk for linear model analysis.  We use R, because sci-kit learn doesn't seem have a fast L1 path algorithm for logistic regression.  The models are then fit via the [gamlr](https://github.com/TaddyLab/gamlr) package, with [optimal penalty size selected via corrected AICc](http://arxiv.org/abs/1308.5623),  following the code in [linmod.R](https://github.com/TaddyLab/deepir/blob/master/code/linmod.R)."
     ]
    },
    {
     "cell_type": "code",
     "collapsed": false,
     "input": [
      "phraser = Phrases(allsentences,threshold=5.0)"
     ],
     "language": "python",
     "metadata": {},
     "outputs": [],
     "prompt_number": 203
    },
    {
     "cell_type": "code",
     "collapsed": false,
     "input": [
      "for w in phraser[allsentences[0]]:\n",
      "        print(w, end=\" \")"
     ],
     "language": "python",
     "metadata": {},
     "outputs": [
      {
       "output_type": "stream",
       "stream": "stdout",
       "text": [
        "one thing not mentioned i took_advantage of yoga_class which different from yoga_class in main gym "
       ]
      }
     ],
     "prompt_number": 204
    },
    {
     "cell_type": "code",
     "collapsed": false,
     "input": [
      "i = 0\n",
      "fout = open(\"data/yelp_phrases.txt\", \"w\")\n",
      "for samp in [\"train\",\"test\"]:\n",
      "    for stars in range(1,6):  \n",
      "        if samp == \"train\":\n",
      "            rev = reviews[str(stars)]\n",
      "        else:\n",
      "            rev = testrev[str(stars)]\n",
      "  \n",
      "        for r in rev:\n",
      "            for s in r:\n",
      "                for w in phraser[s]:\n",
      "                    if \"|\" not in w:\n",
      "                        fout.write(\"%d|%s|%d|%s\\n\" % (i,w,stars,samp))\n",
      "            i += 1\n"
     ],
     "language": "python",
     "metadata": {},
     "outputs": [],
     "prompt_number": 227
    },
    {
     "cell_type": "code",
     "collapsed": false,
     "input": [
      "Pcoarse = {} \n",
      "Pfine = {}\n",
      "\n",
      "for stars in range(1,6):\n",
      "    Pcoarse['train%d'%stars] = getprobs(reviews[str(stars)], docgrp)\n",
      "    Pfine['train%d'%stars] = getprobs(reviews[str(stars)], docgrp_fine)\n",
      "    Pcoarse['test%d'%stars] = getprobs(testrev[str(stars)], docgrp)\n",
      "    Pfine['test%d'%stars] = getprobs(testrev[str(stars)], docgrp_fine)\n",
      "    \n",
      "pmatcoarse = pd.concat( [Pcoarse['train%d'%s] for s in range(1,6)] + [Pcoarse['test%d'%s] for s in range(1,6)] )\n",
      "pmatfine = pd.concat( [Pfine['train%d'%s] for s in range(1,6)] + [Pfine['test%d'%s] for s in range(1,6)] )\n",
      "pmatcoarse.to_csv(\"data/coarseyelpscore.csv\",index=False)\n",
      "pmatfine.to_csv(\"data/fineyelpscore.csv\",index=False)\n"
     ],
     "language": "python",
     "metadata": {},
     "outputs": [],
     "prompt_number": 236
    },
    {
     "cell_type": "markdown",
     "metadata": {},
     "source": [
      "### Alternatively, try doc2vec analysis"
     ]
    },
    {
     "cell_type": "code",
     "collapsed": false,
     "input": [
      "from gensim.models.doc2vec import *\n",
      "def YelpLabeledSentence( stars = [1,2,3,4,5], prefix=\"train\" ):\n",
      "    for nstar in stars:\n",
      "        i = 0\n",
      "        for line in open(\"data/yelp%s%dstar.txt\"%(prefix,nstar)):\n",
      "            line = alteos.sub(r' \\1 . ', line).rstrip(\"( \\. )*\\n\")\n",
      "            lab = \"%s-%d-%d\" % (prefix, nstar, i)\n",
      "            rev = [s.split() for s in line.split(\" . \")]\n",
      "            i += 1\n",
      "            for s in rev:\n",
      "                yield LabeledSentence(s, [lab])\n"
     ],
     "language": "python",
     "metadata": {},
     "outputs": [],
     "prompt_number": 178
    },
    {
     "cell_type": "code",
     "collapsed": false,
     "input": [
      "trainsent = list(YelpLabeledSentence()) \n",
      "testsent = list(YelpLabeledSentence(prefix=\"test\"))"
     ],
     "language": "python",
     "metadata": {},
     "outputs": [],
     "prompt_number": 179
    },
    {
     "cell_type": "code",
     "collapsed": false,
     "input": [
      "mdm0 = Doc2Vec(workers=4, size=100, window=5, dm=0)\n",
      "mdm1 = Doc2Vec(workers=4, size=100, window=5, dm=1)\n",
      "%time mdm0.build_vocab(trainsent+testsent)\n",
      "%time mdm1.build_vocab(trainsent+testsent)"
     ],
     "language": "python",
     "metadata": {},
     "outputs": [
      {
       "output_type": "stream",
       "stream": "stdout",
       "text": [
        "CPU times: user 23.9 s, sys: 8.91 ms, total: 23.9 s\n",
        "Wall time: 23.9 s\n",
        "CPU times: user 24.1 s, sys: 748 \u00b5s, total: 24.1 s"
       ]
      },
      {
       "output_type": "stream",
       "stream": "stdout",
       "text": [
        "\n",
        "Wall time: 24.1 s\n"
       ]
      }
     ],
     "prompt_number": 180
    },
    {
     "cell_type": "code",
     "collapsed": false,
     "input": [
      "def trainD2V(mod, sent, T=20):\n",
      "    mod.min_alpha = mod.alpha\n",
      "    for epoch in range(T):\n",
      "        print(epoch, end=\" \")\n",
      "        np.random.shuffle(sent)\n",
      "        mod.train(sent)\n",
      "        mod.alpha *= 0.9  \n",
      "        mod.min_alpha = mod.alpha  \n",
      "    print(\".\")\n"
     ],
     "language": "python",
     "metadata": {},
     "outputs": [],
     "prompt_number": 181
    },
    {
     "cell_type": "code",
     "collapsed": false,
     "input": [
      "%time trainD2V(mdm0, trainsent)\n",
      "%time trainD2V(mdm1, trainsent)"
     ],
     "language": "python",
     "metadata": {},
     "outputs": [
      {
       "output_type": "stream",
       "stream": "stdout",
       "text": [
        "0 1"
       ]
      },
      {
       "output_type": "stream",
       "stream": "stdout",
       "text": [
        " 2"
       ]
      },
      {
       "output_type": "stream",
       "stream": "stdout",
       "text": [
        " 3"
       ]
      },
      {
       "output_type": "stream",
       "stream": "stdout",
       "text": [
        " 4"
       ]
      },
      {
       "output_type": "stream",
       "stream": "stdout",
       "text": [
        " 5"
       ]
      },
      {
       "output_type": "stream",
       "stream": "stdout",
       "text": [
        " 6"
       ]
      },
      {
       "output_type": "stream",
       "stream": "stdout",
       "text": [
        " 7"
       ]
      },
      {
       "output_type": "stream",
       "stream": "stdout",
       "text": [
        " 8"
       ]
      },
      {
       "output_type": "stream",
       "stream": "stdout",
       "text": [
        " 9"
       ]
      },
      {
       "output_type": "stream",
       "stream": "stdout",
       "text": [
        " 10"
       ]
      },
      {
       "output_type": "stream",
       "stream": "stdout",
       "text": [
        " 11"
       ]
      },
      {
       "output_type": "stream",
       "stream": "stdout",
       "text": [
        " 12"
       ]
      },
      {
       "output_type": "stream",
       "stream": "stdout",
       "text": [
        " 13"
       ]
      },
      {
       "output_type": "stream",
       "stream": "stdout",
       "text": [
        " 14"
       ]
      },
      {
       "output_type": "stream",
       "stream": "stdout",
       "text": [
        " 15"
       ]
      },
      {
       "output_type": "stream",
       "stream": "stdout",
       "text": [
        " 16"
       ]
      },
      {
       "output_type": "stream",
       "stream": "stdout",
       "text": [
        " 17"
       ]
      },
      {
       "output_type": "stream",
       "stream": "stdout",
       "text": [
        " 18"
       ]
      },
      {
       "output_type": "stream",
       "stream": "stdout",
       "text": [
        " 19"
       ]
      },
      {
       "output_type": "stream",
       "stream": "stdout",
       "text": [
        " ."
       ]
      },
      {
       "output_type": "stream",
       "stream": "stdout",
       "text": [
        "\n",
        "CPU times: user 45min 49s, sys: 2min 4s, total: 47min 54s\n",
        "Wall time: 22min 22s\n",
        "0 1"
       ]
      },
      {
       "output_type": "stream",
       "stream": "stdout",
       "text": [
        " 2"
       ]
      },
      {
       "output_type": "stream",
       "stream": "stdout",
       "text": [
        " 3"
       ]
      },
      {
       "output_type": "stream",
       "stream": "stdout",
       "text": [
        " 4"
       ]
      },
      {
       "output_type": "stream",
       "stream": "stdout",
       "text": [
        " 5"
       ]
      },
      {
       "output_type": "stream",
       "stream": "stdout",
       "text": [
        " 6"
       ]
      },
      {
       "output_type": "stream",
       "stream": "stdout",
       "text": [
        " 7"
       ]
      },
      {
       "output_type": "stream",
       "stream": "stdout",
       "text": [
        " 8"
       ]
      },
      {
       "output_type": "stream",
       "stream": "stdout",
       "text": [
        " 9"
       ]
      },
      {
       "output_type": "stream",
       "stream": "stdout",
       "text": [
        " 10"
       ]
      },
      {
       "output_type": "stream",
       "stream": "stdout",
       "text": [
        " 11"
       ]
      },
      {
       "output_type": "stream",
       "stream": "stdout",
       "text": [
        " 12"
       ]
      },
      {
       "output_type": "stream",
       "stream": "stdout",
       "text": [
        " 13"
       ]
      },
      {
       "output_type": "stream",
       "stream": "stdout",
       "text": [
        " 14"
       ]
      },
      {
       "output_type": "stream",
       "stream": "stdout",
       "text": [
        " 15"
       ]
      },
      {
       "output_type": "stream",
       "stream": "stdout",
       "text": [
        " 16"
       ]
      },
      {
       "output_type": "stream",
       "stream": "stdout",
       "text": [
        " 17"
       ]
      },
      {
       "output_type": "stream",
       "stream": "stdout",
       "text": [
        " 18"
       ]
      },
      {
       "output_type": "stream",
       "stream": "stdout",
       "text": [
        " 19"
       ]
      },
      {
       "output_type": "stream",
       "stream": "stdout",
       "text": [
        " ."
       ]
      },
      {
       "output_type": "stream",
       "stream": "stdout",
       "text": [
        "\n",
        "CPU times: user 49min 39s, sys: 1min 37s, total: 51min 16s\n",
        "Wall time: 21min 35s\n"
       ]
      }
     ],
     "prompt_number": 182
    },
    {
     "cell_type": "code",
     "collapsed": false,
     "input": [
      "## turn of training of word vecs, just score label vecs\n",
      "mdm0.train_words=False\n",
      "mdm1.train_words=False\n",
      "%time trainD2V(mdm0, testsent)\n",
      "%time trainD2V(mdm1, testsent)\n"
     ],
     "language": "python",
     "metadata": {},
     "outputs": [
      {
       "output_type": "stream",
       "stream": "stdout",
       "text": [
        "0 1"
       ]
      },
      {
       "output_type": "stream",
       "stream": "stdout",
       "text": [
        " 2"
       ]
      },
      {
       "output_type": "stream",
       "stream": "stdout",
       "text": [
        " 3"
       ]
      },
      {
       "output_type": "stream",
       "stream": "stdout",
       "text": [
        " 4"
       ]
      },
      {
       "output_type": "stream",
       "stream": "stdout",
       "text": [
        " 5"
       ]
      },
      {
       "output_type": "stream",
       "stream": "stdout",
       "text": [
        " 6"
       ]
      },
      {
       "output_type": "stream",
       "stream": "stdout",
       "text": [
        " 7"
       ]
      },
      {
       "output_type": "stream",
       "stream": "stdout",
       "text": [
        " 8"
       ]
      },
      {
       "output_type": "stream",
       "stream": "stdout",
       "text": [
        " 9"
       ]
      },
      {
       "output_type": "stream",
       "stream": "stdout",
       "text": [
        " 10"
       ]
      },
      {
       "output_type": "stream",
       "stream": "stdout",
       "text": [
        " 11"
       ]
      },
      {
       "output_type": "stream",
       "stream": "stdout",
       "text": [
        " 12"
       ]
      },
      {
       "output_type": "stream",
       "stream": "stdout",
       "text": [
        " 13"
       ]
      },
      {
       "output_type": "stream",
       "stream": "stdout",
       "text": [
        " 14"
       ]
      },
      {
       "output_type": "stream",
       "stream": "stdout",
       "text": [
        " 15"
       ]
      },
      {
       "output_type": "stream",
       "stream": "stdout",
       "text": [
        " 16"
       ]
      },
      {
       "output_type": "stream",
       "stream": "stdout",
       "text": [
        " 17"
       ]
      },
      {
       "output_type": "stream",
       "stream": "stdout",
       "text": [
        " 18"
       ]
      },
      {
       "output_type": "stream",
       "stream": "stdout",
       "text": [
        " 19"
       ]
      },
      {
       "output_type": "stream",
       "stream": "stdout",
       "text": [
        " ."
       ]
      },
      {
       "output_type": "stream",
       "stream": "stdout",
       "text": [
        "\n",
        "CPU times: user 3min 28s, sys: 13 s, total: 3min 41s\n",
        "Wall time: 1min 55s\n",
        "0 1"
       ]
      },
      {
       "output_type": "stream",
       "stream": "stdout",
       "text": [
        " 2"
       ]
      },
      {
       "output_type": "stream",
       "stream": "stdout",
       "text": [
        " 3"
       ]
      },
      {
       "output_type": "stream",
       "stream": "stdout",
       "text": [
        " 4"
       ]
      },
      {
       "output_type": "stream",
       "stream": "stdout",
       "text": [
        " 5"
       ]
      },
      {
       "output_type": "stream",
       "stream": "stdout",
       "text": [
        " 6"
       ]
      },
      {
       "output_type": "stream",
       "stream": "stdout",
       "text": [
        " 7"
       ]
      },
      {
       "output_type": "stream",
       "stream": "stdout",
       "text": [
        " 8"
       ]
      },
      {
       "output_type": "stream",
       "stream": "stdout",
       "text": [
        " 9"
       ]
      },
      {
       "output_type": "stream",
       "stream": "stdout",
       "text": [
        " 10"
       ]
      },
      {
       "output_type": "stream",
       "stream": "stdout",
       "text": [
        " 11"
       ]
      },
      {
       "output_type": "stream",
       "stream": "stdout",
       "text": [
        " 12"
       ]
      },
      {
       "output_type": "stream",
       "stream": "stdout",
       "text": [
        " 13"
       ]
      },
      {
       "output_type": "stream",
       "stream": "stdout",
       "text": [
        " 14"
       ]
      },
      {
       "output_type": "stream",
       "stream": "stdout",
       "text": [
        " 15"
       ]
      },
      {
       "output_type": "stream",
       "stream": "stdout",
       "text": [
        " 16"
       ]
      },
      {
       "output_type": "stream",
       "stream": "stdout",
       "text": [
        " 17"
       ]
      },
      {
       "output_type": "stream",
       "stream": "stdout",
       "text": [
        " 18"
       ]
      },
      {
       "output_type": "stream",
       "stream": "stdout",
       "text": [
        " 19"
       ]
      },
      {
       "output_type": "stream",
       "stream": "stdout",
       "text": [
        " ."
       ]
      },
      {
       "output_type": "stream",
       "stream": "stdout",
       "text": [
        "\n",
        "CPU times: user 3min 47s, sys: 12.1 s, total: 3min 59s\n",
        "Wall time: 1min 55s\n"
       ]
      }
     ],
     "prompt_number": 183
    },
    {
     "cell_type": "code",
     "collapsed": false,
     "input": [
      "\n",
      "mod = mdm0\n",
      "prefix=\"train\"\n",
      "stars = 1\n",
      "\n",
      "v = []\n",
      "y = np.empty(0)\n",
      "x = np.empty([0,mod.syn0.shape[1]])\n",
      "\n",
      "labs = [ w for w in mod.vocab if re.match(\"%s-%d-\\d+\"%(prefix,stars), w) ]\n",
      "v += labs\n",
      "i = [mod.vocab[w].index for w in labs] \n",
      "y = np.append(y, np.repeat(stars,len(i)))\n",
      "x = np.vstack( (x, mod.syn0[i,:]) )\n",
      "\n",
      "veclab = [\"x%d\"%d for d in range(1,x.shape[1]+1)]\n",
      "df = pd.DataFrame( x, index=v, columns=veclab )\n",
      "df[\"stars\"] = y\n",
      "df.to_csv(\"test.csv\", index_label=\"id\")"
     ],
     "language": "python",
     "metadata": {},
     "outputs": [],
     "prompt_number": 184
    },
    {
     "cell_type": "code",
     "collapsed": false,
     "input": [
      "def writeD2V(mod, fname, prefix):\n",
      "    v = []\n",
      "    y = np.empty(0)\n",
      "    x = np.empty([0,mod.syn0.shape[1]])\n",
      "    for stars in range(1,6):\n",
      "        labs = [ w for w in mod.vocab if re.match(\"%s-%d-\\d+\"%(prefix,stars), w) ]\n",
      "        v += labs\n",
      "        i = [mod.vocab[w].index for w in labs] \n",
      "        y = np.append(y, np.repeat(stars,len(i)))\n",
      "        x = np.vstack( (x, mod.syn0[i,:]) )\n",
      "    \n",
      "    veclab = [\"x%d\"%d for d in range(1,x.shape[1]+1)]\n",
      "    df = pd.DataFrame( x, index=v, columns=veclab )\n",
      "    df[\"stars\"] = y\n",
      "    df.to_csv(\"data/%s.csv\"%fname, index_label=\"id\")\n",
      "    "
     ],
     "language": "python",
     "metadata": {},
     "outputs": [],
     "prompt_number": 185
    },
    {
     "cell_type": "code",
     "collapsed": false,
     "input": [
      "for prefix in [\"train\",\"test\"]:\n",
      "    writeD2V(mdm0, \"yelpD2V%s0\"%prefix, prefix)\n",
      "    writeD2V(mdm1, \"yelpD2V%s1\"%prefix, prefix)\n"
     ],
     "language": "python",
     "metadata": {},
     "outputs": [],
     "prompt_number": 186
    },
    {
     "cell_type": "markdown",
     "metadata": {},
     "source": [
      "The rest -- forward linear and logistic modelling -- will happen in R to make sure we're comparing linear apples to linear apples."
     ]
    }
   ],
   "metadata": {}
  }
 ]
}