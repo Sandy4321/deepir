{
 "cells": [
  {
   "cell_type": "markdown",
   "metadata": {},
   "source": [
    "# Document classification by inversion of distributed language representations"
   ]
  },
  {
   "cell_type": "markdown",
   "metadata": {},
   "source": [
    "The skip-gram probabalistic language model is trained to, for window $b$, maximize for each word\n",
    "\n",
    "$$\n",
    "\\prod_{k\\neq t,~k=t-b}^{t+b} \\mathrm{p}(w_k\\mid w_t)\n",
    "$$\n",
    "\n",
    "This probability is calculated for all possible word pairs over a sentence (some defined short chunk of language).\n",
    "\n",
    "In the word2vec formulation, each probability is represented as\n",
    "\n",
    "$$\n",
    "\\mathrm{p}(w \\mid w_I) = \\prod_{j=1}^{L(w)-1} \\sigma\\left( \\mathrm{ch}\\left[\\eta(w,j+1)\\right] \\mathbf{u}_{\\eta(w,j)}^\\top \\mathbf{v}_{w_I} \\right)\n",
    "$$\n",
    "\n",
    "where \n",
    "* $\\eta(w,i)$ is the $i^{th}$ node in a binary huffman tree representation (path) for word $w$, \n",
    "* $\\sigma(x) = 1/(1 + \\exp[-x])$,\n",
    "* and $\\mathrm{ch}(\\eta) \\in \\{-1,+1\\}$ translates from left/right child to +/- one.\n",
    "\n",
    "The binary huffman tree represents each word as a series of bits, so that the probability of word $w$ given word $w_I$ can be written as the product of probabilities that each bit is either on or off (represented above through the $\\mathrm{ch}$ function)."
   ]
  },
  {
   "cell_type": "code",
   "execution_count": 1,
   "metadata": {
    "collapsed": false
   },
   "outputs": [
    {
     "data": {
      "image/png": "[encoded data removed]",
      "text/plain": [
       "<IPython.core.display.Image object>"
      ]
     },
     "execution_count": 1,
     "metadata": {},
     "output_type": "execute_result"
    }
   ],
   "source": [
    "# An example binary huffman tree.\n",
    "!dot -Tpng tex/graphs/bht.dot -o tex/graphs/bht.png\n",
    "from IPython.display import Image\n",
    "Image(filename='tex/graphs/bht.png') \n",
    "\n",
    "# Note that it is a prefix tree: you know the total length after each point given bits to that point."
   ]
  },
  {
   "cell_type": "markdown",
   "metadata": {},
   "source": [
    "Given a fitted representation, we can score any new sentence (and sum across them for documents) according to the model _implied_ by the training process.  This gives a document (log) probability under that representation.  This can be calculated for language representations trained on each of the corpora associated with some class labels.  When combined with priors for each class label and inversion via Bayes rule, the document probabilities provide class probabilities."
   ]
  },
  {
   "cell_type": "markdown",
   "metadata": {},
   "source": [
    "Comparators would be any linear model regression onto phrase counts (e.g., the logistic lasso below),  the [doc2vec](http://arxiv.org/abs/1405.4053) machinery (also built into gensim), and the [Socher et al](http://nlp.stanford.edu/~socherr/EMNLP2013_RNTN.pdf) RNTN.  The doc2vec tool maps from documents to a vector space of fixed dimension, which can then be used as input to off-the-shelf machine learners.  The latter builds the sentiment/meaning into the model itself, and conditions upon this information during the training process.\n",
    "\n",
    "Advantages of the inversion framework include:\n",
    "* modularity: it works for any model of language that can (or its training can) be interpreted as a probabilistic model.\n",
    "* transparency and replicability: a simple extension of any software for training distributed language models.\n",
    "* performance (consider also 'training' the class priors, so as to correct for generative model misspecificiation).\n",
    "\n"
   ]
  },
  {
   "cell_type": "markdown",
   "metadata": {},
   "source": [
    "## Example: yelp data\n",
    "\n",
    "We'll look at some proof-of-concept on the kaggle [yelp recruiting contest data](http://www.kaggle.com/c/yelp-recruiting/data), split into star-rating files via [parseyelp.py](https://github.com/TaddyLab/deepir/blob/master/code/parseyelp.py)."
   ]
  },
  {
   "cell_type": "code",
   "execution_count": 2,
   "metadata": {
    "collapsed": false
   },
   "outputs": [
    {
     "name": "stdout",
     "output_type": "stream",
     "text": [
      " u can go there n check car out . if u wanna buy 000 there ? thats wrong move ! if u even want car service from there ? u made biggest mistake of ur life !! i had 000 time asked my girlfriend take my car there oil service guess what ? they ripped my girlfriend off by lying how bad my car now . if without fixing problem . might bring some serious accident . then she did what they said . 000 brand new tires timing belt 000 new brake pads . u know whys worst ? all of those above i had just changed 000 months before !!! what trashy dealer that ? people better off go somewhere ! \n",
      "\n"
     ]
    }
   ],
   "source": [
    "import sys\n",
    "import numpy as np\n",
    "import pandas as pd\n",
    "from copy import deepcopy\n",
    "from gensim.models import Word2Vec\n",
    "from gensim.models import Phrases\n",
    "\n",
    "fin = open(\"data/yelptrain1star.txt\")\n",
    "firstbadreview = fin.readline()\n",
    "print(firstbadreview)"
   ]
  },
  {
   "cell_type": "code",
   "execution_count": 3,
   "metadata": {
    "collapsed": false
   },
   "outputs": [],
   "source": [
    "## define a review generator\n",
    "\n",
    "import re\n",
    "alteos = re.compile(r'( [!\\?] )')\n",
    "\n",
    "def revsplit(l):\n",
    "    l = alteos.sub(r' \\1 . ', l).rstrip(\"( \\. )*\\n\")\n",
    "    return [s.split() for s in l.split(\" . \")]\n",
    "\n",
    "def YelpReviews( stars = [1,2,3,4,5], prefix=\"train\" ):\n",
    "    for nstar in stars:\n",
    "        for line in open(\"data/yelp%s%dstar.txt\"%(prefix,nstar)):\n",
    "            yield revsplit(line)\n"
   ]
  },
  {
   "cell_type": "code",
   "execution_count": 5,
   "metadata": {
    "collapsed": false
   },
   "outputs": [
    {
     "data": {
      "text/plain": [
       "2027394"
      ]
     },
     "execution_count": 5,
     "metadata": {},
     "output_type": "execute_result"
    }
   ],
   "source": [
    "## grab all sentences; good bad and ugly\n",
    "allsentences = [ s for r in YelpReviews() for s in r ]\n",
    "len(allsentences)"
   ]
  },
  {
   "cell_type": "code",
   "execution_count": 6,
   "metadata": {
    "collapsed": false
   },
   "outputs": [
    {
     "data": {
      "text/plain": [
       "['neg', 'pos']"
      ]
     },
     "execution_count": 6,
     "metadata": {},
     "output_type": "execute_result"
    }
   ],
   "source": [
    "docgrp = {'neg': [1,2], 'pos': [5]} \n",
    "[g for g in docgrp]"
   ]
  },
  {
   "cell_type": "code",
   "execution_count": 7,
   "metadata": {
    "collapsed": false
   },
   "outputs": [],
   "source": [
    "reviews = { g: list(YelpReviews(docgrp[g])) for g in docgrp }\n",
    "ndoc = pd.Series( {g: len(reviews[g]) for g in docgrp} , dtype=\"float64\" )"
   ]
  },
  {
   "cell_type": "code",
   "execution_count": 8,
   "metadata": {
    "collapsed": false
   },
   "outputs": [
    {
     "data": {
      "text/plain": [
       "[['if', 'without', 'fixing', 'problem'],\n",
       " ['might', 'bring', 'some', 'serious', 'accident'],\n",
       " ['then', 'she', 'did', 'what', 'they', 'said'],\n",
       " ['000',\n",
       "  'brand',\n",
       "  'new',\n",
       "  'tires',\n",
       "  'timing',\n",
       "  'belt',\n",
       "  '000',\n",
       "  'new',\n",
       "  'brake',\n",
       "  'pads']]"
      ]
     },
     "execution_count": 8,
     "metadata": {},
     "output_type": "execute_result"
    }
   ],
   "source": [
    "reviews['neg'][0][6:10]"
   ]
  },
  {
   "cell_type": "code",
   "execution_count": 9,
   "metadata": {
    "collapsed": false
   },
   "outputs": [],
   "source": [
    "jointmodel = Word2Vec(workers=4)\n",
    "np.random.shuffle(allsentences)\n",
    "jointmodel.build_vocab(allsentences)  "
   ]
  },
  {
   "cell_type": "code",
   "execution_count": 10,
   "metadata": {
    "collapsed": false
   },
   "outputs": [],
   "source": [
    "model = { g: deepcopy(jointmodel) for g in docgrp }\n"
   ]
  },
  {
   "cell_type": "code",
   "execution_count": 11,
   "metadata": {
    "collapsed": false
   },
   "outputs": [
    {
     "ename": "SyntaxError",
     "evalue": "invalid syntax (<ipython-input-11-e3e237fe80f3>, line 5)",
     "output_type": "error",
     "traceback": [
      "\u001b[0;36m  File \u001b[0;32m\"<ipython-input-11-e3e237fe80f3>\"\u001b[0;36m, line \u001b[0;32m5\u001b[0m\n\u001b[0;31m    print(epoch, end=\" \")\u001b[0m\n\u001b[0m                    ^\u001b[0m\n\u001b[0;31mSyntaxError\u001b[0m\u001b[0;31m:\u001b[0m invalid syntax\n"
     ]
    }
   ],
   "source": [
    "def trainW2V(g, T=20):\n",
    "    sent = [l for r in reviews[g] for l in r]\n",
    "    model[g].min_alpha = model[g].alpha\n",
    "    for epoch in range(T):\n",
    "        print(epoch, end=\" \")\n",
    "        np.random.shuffle(sent)\n",
    "        model[g].train(sent)\n",
    "        model[g].alpha *= 0.9  \n",
    "        model[g].min_alpha = model[g].alpha  \n",
    "    print(\".\")\n"
   ]
  },
  {
   "cell_type": "code",
   "execution_count": null,
   "metadata": {
    "collapsed": false
   },
   "outputs": [],
   "source": [
    "for g in docgrp: \n",
    "    print(g, end=\": \")\n",
    "    trainW2V( g )\n",
    "    "
   ]
  },
  {
   "cell_type": "code",
   "execution_count": null,
   "metadata": {
    "collapsed": false
   },
   "outputs": [],
   "source": [
    "def nearby(word, g):\n",
    "    print(word)\n",
    "    print( \"%s:\"%str(g), end=\" \")\n",
    "    for (w,v) in model[g].most_similar([word]):\n",
    "        print(w, end=\" \")\n",
    "    print(\"\\n\")\n"
   ]
  },
  {
   "cell_type": "code",
   "execution_count": null,
   "metadata": {
    "collapsed": false
   },
   "outputs": [],
   "source": [
    "for g in docgrp: nearby(\"food\", g)\n",
    "for g in docgrp: nearby(\"service\", g)\n",
    "for g in docgrp: nearby(\"value\", g)\n"
   ]
  },
  {
   "cell_type": "markdown",
   "metadata": {},
   "source": [
    "Everything to this point uses standard gensim.  For the next bit, we're using the `score` functions implemented in the [taddylab fork](https://github.com/TaddyLab/gensim)."
   ]
  },
  {
   "cell_type": "code",
   "execution_count": null,
   "metadata": {
    "collapsed": false
   },
   "outputs": [],
   "source": [
    "testrev = { g: list(YelpReviews(docgrp[g], \"test\")) for g in docgrp }"
   ]
  },
  {
   "cell_type": "code",
   "execution_count": null,
   "metadata": {
    "collapsed": false
   },
   "outputs": [],
   "source": [
    "def getprobs(rev, grp):\n",
    "    sentences =  [(i,s) for i,r in enumerate(rev) for s in r]\n",
    "    eta = pd.DataFrame(\n",
    "            { g: model[g].score([s for i,s in sentences])  \n",
    "             for g in grp } )\n",
    "    probs = eta.subtract( eta.max('columns'), 'rows') \n",
    "    probs = np.exp( probs )\n",
    "    probs = probs.divide(probs.sum('columns'), \"rows\")\n",
    "    probs['cnt'] = 1\n",
    "    probs = probs.groupby([i for i,s in sentences]).sum()\n",
    "    probs = probs.divide(probs[\"cnt\"], 'rows').drop(\"cnt\", 1)\n",
    "    return(probs)"
   ]
  },
  {
   "cell_type": "code",
   "execution_count": null,
   "metadata": {
    "collapsed": false
   },
   "outputs": [],
   "source": [
    "probs = {g: getprobs(testrev[g], docgrp) for g in docgrp }"
   ]
  },
  {
   "cell_type": "code",
   "execution_count": null,
   "metadata": {
    "collapsed": false
   },
   "outputs": [],
   "source": [
    "import matplotlib.pyplot as plt\n",
    "%matplotlib inline\n",
    "\n",
    "fig = plt.figure(figsize=(7,4))\n",
    "plt.hist(probs['neg']['pos'],normed=1,\n",
    "    color=\"red\", alpha=.6, label=\"true negative\", linewidth=1)\n",
    "plt.hist(probs['pos']['pos'],normed=1,\n",
    "    color=\"yellow\", alpha=.6, label=\"true positive\", linewidth=1)\n",
    "plt.xlim([0,1])\n",
    "plt.ylim([0,5])\n",
    "plt.legend(frameon=False, loc='upper center')\n",
    "plt.xlabel(\"prob positive\")\n",
    "plt.ylabel(\"density\")\n",
    "#fig.savefig(\"graphs/coarseprobs.pdf\", format=\"pdf\", bbox_inches=\"tight\")\n"
   ]
  },
  {
   "cell_type": "code",
   "execution_count": null,
   "metadata": {
    "collapsed": false
   },
   "outputs": [],
   "source": [
    "yhat = {g: probs[g].idxmax('columns') for g in docgrp}\n",
    "mc = pd.DataFrame({\n",
    "    'mcr': {g: (yhat[g] != g).mean() for g in docgrp},\n",
    "    'n': {g: len(testrev[g]) for g in docgrp}\n",
    "    })\n",
    "print(mc)\n",
    "\n",
    "overall = mc.product(\"columns\").sum()/mc['n'].sum()\n",
    "print(\"\\nOverall MCR: %.3f\" %overall)"
   ]
  },
  {
   "cell_type": "markdown",
   "metadata": {},
   "source": [
    "So the fit looks nice and tight. OOS we get around 6% misclassification rate on the reviews."
   ]
  },
  {
   "cell_type": "code",
   "execution_count": null,
   "metadata": {
    "collapsed": false
   },
   "outputs": [],
   "source": [
    "svec = np.concatenate((probs['neg']['pos'],probs['pos']['pos']), axis=0)\n",
    "allrev = [[w for s in r for w in s] for r in testrev['neg']+testrev['pos']]"
   ]
  },
  {
   "cell_type": "code",
   "execution_count": null,
   "metadata": {
    "collapsed": false
   },
   "outputs": [],
   "source": [
    "import pandas as pd\n",
    "diff = pd.Series( svec )\n",
    "tops = diff.order(ascending=False)[:5]\n",
    "print(\"TOPS\\n\")\n",
    "for i in tops.index:\n",
    "    print( \" \".join(allrev[i]), end=\"\\n\\n\")\n",
    "bots = diff.order()[:5]\n",
    "print(\"BOTTOMS\\n\")\n",
    "for i in bots.index:\n",
    "    print( \" \".join(allrev[i]), end=\"\\n\\n\")\n"
   ]
  },
  {
   "cell_type": "markdown",
   "metadata": {},
   "source": [
    "### Now, same thing but on fine scale\n",
    "\n",
    "This copies most of the code from above and replaces it with classification amongst the 1-5 ratings."
   ]
  },
  {
   "cell_type": "code",
   "execution_count": null,
   "metadata": {
    "collapsed": false
   },
   "outputs": [],
   "source": [
    "docgrp_fine = {str(i) : [i] for i in range(1,6)} \n",
    "docgrp_fine"
   ]
  },
  {
   "cell_type": "code",
   "execution_count": null,
   "metadata": {
    "collapsed": false
   },
   "outputs": [],
   "source": [
    "for g in docgrp_fine:\n",
    "    print(g, end=\": \")\n",
    "    reviews[g] = list(YelpReviews(docgrp_fine[g]))\n",
    "    model[g] = deepcopy(jointmodel)\n",
    "    trainW2V( g )\n"
   ]
  },
  {
   "cell_type": "code",
   "execution_count": null,
   "metadata": {
    "collapsed": false
   },
   "outputs": [],
   "source": [
    "for g in docgrp_fine:\n",
    "    testrev[g] =  list( YelpReviews(docgrp_fine[g], \"test\") )\n",
    "    probs[g] = getprobs(testrev[g], docgrp_fine)\n",
    "    yhat[g] = probs[g].idxmax(\"columns\")\n",
    "    "
   ]
  },
  {
   "cell_type": "code",
   "execution_count": null,
   "metadata": {
    "collapsed": false
   },
   "outputs": [],
   "source": [
    "mc_fine = pd.DataFrame({\n",
    "    'mcr': {g: (yhat[g] != g).mean() for g in docgrp_fine},\n",
    "    'n': {g: len(testrev[g]) for g in docgrp_fine}\n",
    "    })\n",
    "print(mc_fine)\n",
    "\n",
    "ntest = mc_fine['n'].sum()\n",
    "overall_fine = mc_fine.product(\"columns\").sum()/ntest\n",
    "print(\"\\nOverall Fine-Scale MCR: %.3f\" %overall_fine)"
   ]
  },
  {
   "cell_type": "markdown",
   "metadata": {},
   "source": [
    "Finally, phrases to disk for linear model analysis.  We use R, because sci-kit learn doesn't seem have a fast L1 path algorithm for logistic regression.  The models are then fit via the [gamlr](https://github.com/TaddyLab/gamlr) package, with [optimal penalty size selected via corrected AICc](http://arxiv.org/abs/1308.5623),  following the code in [linmod.R](https://github.com/TaddyLab/deepir/blob/master/code/linmod.R)."
   ]
  },
  {
   "cell_type": "code",
   "execution_count": null,
   "metadata": {
    "collapsed": false
   },
   "outputs": [],
   "source": [
    "phraser = Phrases(allsentences,threshold=5.0)"
   ]
  },
  {
   "cell_type": "code",
   "execution_count": null,
   "metadata": {
    "collapsed": false
   },
   "outputs": [],
   "source": [
    "for w in phraser[allsentences[0]]:\n",
    "        print(w, end=\" \")"
   ]
  },
  {
   "cell_type": "code",
   "execution_count": null,
   "metadata": {
    "collapsed": false
   },
   "outputs": [],
   "source": [
    "i = 0\n",
    "fout = open(\"data/yelp_phrases.txt\", \"w\")\n",
    "for samp in [\"train\",\"test\"]:\n",
    "    for stars in range(1,6):  \n",
    "        if samp == \"train\":\n",
    "            rev = reviews[str(stars)]\n",
    "        else:\n",
    "            rev = testrev[str(stars)]\n",
    "  \n",
    "        for r in rev:\n",
    "            for s in r:\n",
    "                for w in phraser[s]:\n",
    "                    if \"|\" not in w:\n",
    "                        fout.write(\"%d|%s|%d|%s\\n\" % (i,w,stars,samp))\n",
    "            i += 1\n"
   ]
  },
  {
   "cell_type": "markdown",
   "metadata": {},
   "source": [
    "#### also, output scores per rev for reference"
   ]
  },
  {
   "cell_type": "code",
   "execution_count": null,
   "metadata": {
    "collapsed": false
   },
   "outputs": [],
   "source": [
    "Pfine = {}\n",
    "\n",
    "for stars in range(1,6):\n",
    "    print(stars)\n",
    "    Pfine['train%d'%stars] = getprobs(reviews[str(stars)], docgrp_fine)\n",
    "    Pfine['test%d'%stars] = getprobs(testrev[str(stars)], docgrp_fine)\n",
    "    \n",
    "pmatfine = pd.concat( [Pfine['train%d'%s] for s in range(1,6)] + [Pfine['test%d'%s] for s in range(1,6)] )\n",
    "pmatfine.to_csv(\"data/yelpw2vprobs.csv\",index=False)\n"
   ]
  },
  {
   "cell_type": "code",
   "execution_count": null,
   "metadata": {
    "collapsed": false
   },
   "outputs": [],
   "source": [
    "ntrain = [len(reviews[g]) for g in docgrp_fine]\n",
    "ntest = [len(testrev[g]) for g in docgrp_fine]"
   ]
  },
  {
   "cell_type": "code",
   "execution_count": null,
   "metadata": {
    "collapsed": false
   },
   "outputs": [],
   "source": [
    "sum(ntrain)+sum(ntest)"
   ]
  },
  {
   "cell_type": "code",
   "execution_count": null,
   "metadata": {
    "collapsed": false
   },
   "outputs": [],
   "source": [
    "i"
   ]
  },
  {
   "cell_type": "markdown",
   "metadata": {},
   "source": [
    "#### and finally, fit a full word2vec and export average weights to R"
   ]
  },
  {
   "cell_type": "code",
   "execution_count": null,
   "metadata": {
    "collapsed": true
   },
   "outputs": [],
   "source": [
    "fullmodel = deepcopy(jointmodel)"
   ]
  },
  {
   "cell_type": "code",
   "execution_count": null,
   "metadata": {
    "collapsed": false
   },
   "outputs": [],
   "source": [
    "fullmodel.min_alpha = fullmodel.alpha\n",
    "for epoch in range(10):\n",
    "    print(epoch, end=\" \")\n",
    "    np.random.shuffle(allsentences)\n",
    "    fullmodel.train(allsentences)\n",
    "    fullmodel.alpha *= 0.9  \n",
    "    fullmodel.min_alpha = fullmodel.alpha  \n",
    "print(\".\")\n"
   ]
  },
  {
   "cell_type": "code",
   "execution_count": null,
   "metadata": {
    "collapsed": false
   },
   "outputs": [],
   "source": [
    "def aggvec(rev):\n",
    "    av = np.zeros(fullmodel.layer1_size)\n",
    "    ns = 0.0\n",
    "    for s in rev:\n",
    "        sv = np.zeros(fullmodel.layer1_size)\n",
    "        nw = 0.0\n",
    "        for w in s:\n",
    "            nw += 1.0\n",
    "            try:\n",
    "                sv += fullmodel[w]\n",
    "            except KeyError:\n",
    "                # print(\"%s is not in vocab\"%w)\n",
    "                pass\n",
    "        if nw > 0.0:\n",
    "            av += sv/nw\n",
    "    if ns > 0:\n",
    "        av = av/ns\n",
    "    return av\n",
    "            "
   ]
  },
  {
   "cell_type": "code",
   "execution_count": null,
   "metadata": {
    "collapsed": false
   },
   "outputs": [],
   "source": [
    "i = 0\n",
    "AV = np.zeros((sum(ntrain)+sum(ntest),fullmodel.layer1_size))\n",
    "for samp in [\"train\",\"test\"]:\n",
    "    for stars in range(1,6):  \n",
    "        if samp == \"train\":\n",
    "            rev = reviews[str(stars)]\n",
    "        else:\n",
    "            rev = testrev[str(stars)]\n",
    "  \n",
    "        for r in rev:\n",
    "            AV[i,:] = aggvec(r)\n",
    "            i += 1\n",
    "            if np.remainder(i,10000) == 0:\n",
    "                print(i)\n"
   ]
  },
  {
   "cell_type": "code",
   "execution_count": null,
   "metadata": {
    "collapsed": true
   },
   "outputs": [],
   "source": [
    "np.savetxt(\"data/yelp_vectors.txt\", AV, delimiter=\"|\", fmt='%.6f')"
   ]
  },
  {
   "cell_type": "code",
   "execution_count": null,
   "metadata": {
    "collapsed": false
   },
   "outputs": [],
   "source": [
    "i"
   ]
  },
  {
   "cell_type": "markdown",
   "metadata": {},
   "source": [
    "### Alternatively, try doc2vec analysis"
   ]
  },
  {
   "cell_type": "code",
   "execution_count": null,
   "metadata": {
    "collapsed": false
   },
   "outputs": [],
   "source": [
    "from gensim.models.doc2vec import *\n",
    "def YelpLabeledSentence( stars = [1,2,3,4,5], prefix=\"train\" ):\n",
    "    for nstar in stars:\n",
    "        i = 0\n",
    "        for line in open(\"data/yelp%s%dstar.txt\"%(prefix,nstar)):\n",
    "            line = alteos.sub(r' \\1 . ', line).rstrip(\"( \\. )*\\n\")\n",
    "            lab = \"%s-%d-%d\" % (prefix, nstar, i)\n",
    "            rev = [s.split() for s in line.split(\" . \")]\n",
    "            i += 1\n",
    "            for s in rev:\n",
    "                yield LabeledSentence(s, [lab])\n"
   ]
  },
  {
   "cell_type": "code",
   "execution_count": null,
   "metadata": {
    "collapsed": false
   },
   "outputs": [],
   "source": [
    "trainsent = list(YelpLabeledSentence()) \n",
    "testsent = list(YelpLabeledSentence(prefix=\"test\"))"
   ]
  },
  {
   "cell_type": "code",
   "execution_count": null,
   "metadata": {
    "collapsed": false
   },
   "outputs": [],
   "source": [
    "mdm0 = Doc2Vec(workers=4, size=100, window=5, dm=0)\n",
    "mdm1 = Doc2Vec(workers=4, size=100, window=5, dm=1)\n",
    "%time mdm0.build_vocab(trainsent+testsent)\n",
    "%time mdm1.build_vocab(trainsent+testsent)"
   ]
  },
  {
   "cell_type": "code",
   "execution_count": null,
   "metadata": {
    "collapsed": false
   },
   "outputs": [],
   "source": [
    "def trainD2V(mod, sent, T=20):\n",
    "    mod.min_alpha = mod.alpha\n",
    "    for epoch in range(T):\n",
    "        print(epoch, end=\" \")\n",
    "        np.random.shuffle(sent)\n",
    "        mod.train(sent)\n",
    "        mod.alpha *= 0.9  \n",
    "        mod.min_alpha = mod.alpha  \n",
    "    print(\".\")\n"
   ]
  },
  {
   "cell_type": "code",
   "execution_count": null,
   "metadata": {
    "collapsed": false
   },
   "outputs": [],
   "source": [
    "%time trainD2V(mdm0, trainsent)\n",
    "%time trainD2V(mdm1, trainsent)"
   ]
  },
  {
   "cell_type": "code",
   "execution_count": null,
   "metadata": {
    "collapsed": false
   },
   "outputs": [],
   "source": [
    "## turn of training of word vecs, just score label vecs\n",
    "mdm0.train_words=False\n",
    "mdm1.train_words=False\n",
    "%time trainD2V(mdm0, testsent)\n",
    "%time trainD2V(mdm1, testsent)\n"
   ]
  },
  {
   "cell_type": "code",
   "execution_count": null,
   "metadata": {
    "collapsed": false
   },
   "outputs": [],
   "source": [
    "def writeD2V(mod, fname, prefix):\n",
    "    v = []\n",
    "    y = np.empty(0)\n",
    "    x = np.empty([0,mod.syn0.shape[1]])\n",
    "    for stars in range(1,6):\n",
    "        labs = [ w for w in mod.vocab if re.match(\"%s-%d-\\d+\"%(prefix,stars), w) ]\n",
    "        v += labs\n",
    "        i = [mod.vocab[w].index for w in labs] \n",
    "        y = np.append(y, np.repeat(stars,len(i)))\n",
    "        x = np.vstack( (x, mod.syn0[i,:]) )\n",
    "    \n",
    "    veclab = [\"x%d\"%d for d in range(1,x.shape[1]+1)]\n",
    "    df = pd.DataFrame( x, index=v, columns=veclab )\n",
    "    df[\"stars\"] = y\n",
    "    df.to_csv(\"data/%s.csv\"%fname, index_label=\"id\")\n",
    "    "
   ]
  },
  {
   "cell_type": "code",
   "execution_count": null,
   "metadata": {
    "collapsed": false
   },
   "outputs": [],
   "source": [
    "for prefix in [\"train\",\"test\"]:\n",
    "    writeD2V(mdm0, \"yelpD2V%s0\"%prefix, prefix)\n",
    "    writeD2V(mdm1, \"yelpD2V%s1\"%prefix, prefix)\n"
   ]
  },
  {
   "cell_type": "markdown",
   "metadata": {},
   "source": [
    "### linear modelling in R\n",
    "\n",
    "The rest -- forward linear and logistic modelling -- will happen in R to make sure we're comparing linear apples to linear apples."
   ]
  },
  {
   "cell_type": "code",
   "execution_count": null,
   "metadata": {
    "collapsed": false
   },
   "outputs": [],
   "source": [
    "!Rscript code/linmod.R"
   ]
  },
  {
   "cell_type": "code",
   "execution_count": null,
   "metadata": {
    "collapsed": false
   },
   "outputs": [],
   "source": [
    "Image(filename='paper/graphs/yelp_logistic.png', width=600,height=300)\n"
   ]
  },
  {
   "cell_type": "code",
   "execution_count": null,
   "metadata": {
    "collapsed": true
   },
   "outputs": [],
   "source": []
  }
 ],
 "metadata": {
  "kernelspec": {
   "display_name": "Python 2",
   "language": "python",
   "name": "python2"
  },
  "language_info": {
   "codemirror_mode": {
    "name": "ipython",
    "version": 2
   },
   "file_extension": ".py",
   "mimetype": "text/x-python",
   "name": "python",
   "nbconvert_exporter": "python",
   "pygments_lexer": "ipython2",
   "version": "2.7.10"
  }
 },
 "nbformat": 4,
 "nbformat_minor": 0
}
